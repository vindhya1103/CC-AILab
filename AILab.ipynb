{
  "nbformat": 4,
  "nbformat_minor": 0,
  "metadata": {
    "colab": {
      "provenance": [],
      "authorship_tag": "ABX9TyPchnn5xFuchQA2RnZ6Kf7e",
      "include_colab_link": true
    },
    "kernelspec": {
      "name": "python3",
      "display_name": "Python 3"
    },
    "language_info": {
      "name": "python"
    }
  },
  "cells": [
    {
      "cell_type": "markdown",
      "metadata": {
        "id": "view-in-github",
        "colab_type": "text"
      },
      "source": [
        "<a href=\"https://colab.research.google.com/github/vindhya1103/CC-AILab/blob/main/AILab.ipynb\" target=\"_parent\"><img src=\"https://colab.research.google.com/assets/colab-badge.svg\" alt=\"Open In Colab\"/></a>"
      ]
    },
    {
      "cell_type": "code",
      "source": [
        "#DFS\n",
        "graph={\n",
        "    'A': ['B','C'],\n",
        "    'B':['D','E'],\n",
        "    'C':['F','G'],\n",
        "    'D':[],\n",
        "    'E':[],\n",
        "    'F':[],\n",
        "    'G':[],\n",
        "}\n",
        "visited=set()\n",
        "def dfs(visited, graph, node):\n",
        "  if node not in visited:\n",
        "    print(node)\n",
        "    visited.add(node)\n",
        "    for neighbour in graph[node]:\n",
        "      dfs(visited, graph, neighbour)\n",
        "print(\"Following is the DFS\")\n",
        "dfs(visited, graph, 'A')"
      ],
      "metadata": {
        "id": "do8-Qh5Q8QDW",
        "colab": {
          "base_uri": "https://localhost:8080/"
        },
        "outputId": "36075ffb-4cd3-4c94-f5d4-6e223c355a70"
      },
      "execution_count": 1,
      "outputs": [
        {
          "output_type": "stream",
          "name": "stdout",
          "text": [
            "Following is the DFS\n",
            "A\n",
            "B\n",
            "D\n",
            "E\n",
            "C\n",
            "F\n",
            "G\n"
          ]
        }
      ]
    },
    {
      "cell_type": "code",
      "source": [
        "#8 puzzle using BFS\n",
        "import numpy as np\n",
        "import pandas as pd\n",
        "import os\n",
        "def bfs(src, target):\n",
        "  queue=[]\n",
        "  queue.append(src)\n",
        "  exp=[]\n",
        "  while len(queue)>0:\n",
        "    source=queue.pop(0)\n",
        "    exp.append(source)\n",
        "    print(source)\n",
        "    if source==target:\n",
        "      print(\"success\")\n",
        "      return\n",
        "    poss_moves=[]\n",
        "    poss_moves=possible_moves(source, exp)\n",
        "    for move in poss_moves:\n",
        "      if move not in exp and move not in queue:\n",
        "        queue.append(move)\n",
        "\n",
        "def possible_moves(state, visited_states):\n",
        "  b=state.index(0)\n",
        "  d=[]\n",
        "  if b not in [0,1,2]:\n",
        "    d.append('u')\n",
        "  if b not in [6,7,8]:\n",
        "    d.append('d')\n",
        "  if b not in [0,3,6]:\n",
        "    d.append('l')\n",
        "  if b not in [2,5,8]:\n",
        "    d.append('r')\n",
        "  pos_moves=[]\n",
        "  for i in d:\n",
        "    pos_moves.append(gen(state,i,b))\n",
        "\n",
        "  return [move_it_can for move_it_can in pos_moves if move_it_can not in visited_states]\n",
        "\n",
        "def gen(state, m, b):\n",
        "  temp=state.copy()\n",
        "  if m=='d':\n",
        "    temp[b+3], temp[b]=temp[b],temp[b+3]\n",
        "\n",
        "  if m=='u':\n",
        "    temp[b-3], temp[b]=temp[b], temp[b-3]\n",
        "\n",
        "  if m=='l':\n",
        "    temp[b-1],temp[b]=temp[b], temp[b-1]\n",
        "\n",
        "  if m=='r':\n",
        "    temp[b+1],temp[b]=temp[b],temp[b+1]\n",
        "\n",
        "  return temp\n",
        "\n",
        "src=[1,2,3,4,5,6,0,7,8]\n",
        "target=[1,2,3,4,5,6,7,8,0]\n",
        "bfs(src, target)\n"
      ],
      "metadata": {
        "id": "O_v7To2pNnrd",
        "colab": {
          "base_uri": "https://localhost:8080/"
        },
        "outputId": "f20deb40-88e3-4897-c294-3a8cf472d5b5"
      },
      "execution_count": 2,
      "outputs": [
        {
          "output_type": "stream",
          "name": "stdout",
          "text": [
            "[1, 2, 3, 4, 5, 6, 0, 7, 8]\n",
            "[1, 2, 3, 0, 5, 6, 4, 7, 8]\n",
            "[1, 2, 3, 4, 5, 6, 7, 0, 8]\n",
            "[0, 2, 3, 1, 5, 6, 4, 7, 8]\n",
            "[1, 2, 3, 5, 0, 6, 4, 7, 8]\n",
            "[1, 2, 3, 4, 0, 6, 7, 5, 8]\n",
            "[1, 2, 3, 4, 5, 6, 7, 8, 0]\n",
            "success\n"
          ]
        }
      ]
    },
    {
      "cell_type": "code",
      "source": [
        "# water jug problem using BFS\n",
        "from collections import deque\n",
        "# Function to find all possible states from the current state\n",
        "def find_states(state, capacities):\n",
        "    a, b = state\n",
        "    a_capacity, b_capacity = capacities\n",
        "    states = []\n",
        "\n",
        "    # All possible operations: Fill, Empty, Pour\n",
        "    operations = [\n",
        "        (a_capacity, b),   # Fill jug A\n",
        "        (a, b_capacity),   # Fill jug B\n",
        "        (0, b),            # Empty jug A\n",
        "        (a, 0),            # Empty jug B\n",
        "        (min(a + b, a_capacity), max(0, a + b - a_capacity)),  # Pour from B to A\n",
        "        (max(0, a + b - b_capacity), min(a + b, b_capacity))   # Pour from A to B\n",
        "    ]\n",
        "\n",
        "    for operation in operations:\n",
        "        if operation != state:  # Avoid adding the current state\n",
        "            states.append(operation)\n",
        "    return states\n",
        "\n",
        "# Function to perform Breadth-First Search\n",
        "def bfs(start_state, target, capacities):\n",
        "    visited = set()\n",
        "    queue = deque([(start_state, [])])  # Initialize queue with start state and empty path\n",
        "\n",
        "    while queue:\n",
        "        current_state, path = queue.popleft()\n",
        "\n",
        "        if current_state == target:\n",
        "            return path + [current_state]\n",
        "\n",
        "        if current_state not in visited:\n",
        "            visited.add(current_state)\n",
        "            next_states = find_states(current_state, capacities)\n",
        "\n",
        "            for next_state in next_states:\n",
        "                queue.append((next_state, path + [current_state]))\n",
        "\n",
        "    return None\n",
        "\n",
        "start_state = (0, 0)  # Initial state of jugs (jug A, jug B)\n",
        "target_state = (2, 0)  # Target state to achieve (2 units in jug A)\n",
        "jug_capacities = (4, 3)  # Capacities of the jugs (jug A capacity, jug B capacity)\n",
        "\n",
        "result = bfs(start_state, target_state, jug_capacities)\n",
        "if result:\n",
        "    print(\"Path to reach the target state:\", result)\n",
        "else:\n",
        "    print(\"Target state cannot be reached from the given start state.\")\n"
      ],
      "metadata": {
        "id": "bfIiEP64RciV",
        "colab": {
          "base_uri": "https://localhost:8080/"
        },
        "outputId": "32746b69-7495-4c42-8821-848b1fa571d1"
      },
      "execution_count": 3,
      "outputs": [
        {
          "output_type": "stream",
          "name": "stdout",
          "text": [
            "Path to reach the target state: [(0, 0), (0, 3), (3, 0), (3, 3), (4, 2), (0, 2), (2, 0)]\n"
          ]
        }
      ]
    },
    {
      "cell_type": "code",
      "source": [
        "# water jug problem using DFS with visited set\n",
        "def solveWaterJugProblem(capacity_jug1, capacity_jug2, desired_quantity):\n",
        "    stack = []\n",
        "    visited = set()  # Visited set to store explored states\n",
        "    stack.append((0, 0))  # Initial state: both jugs empty\n",
        "    visited.add((0, 0))\n",
        "    while stack:\n",
        "        current_state = stack.pop()\n",
        "        if current_state[0] == desired_quantity or current_state[1] == desired_quantity:\n",
        "            return current_state\n",
        "        next_states = generateNextStates(current_state, capacity_jug1, capacity_jug2)\n",
        "        for state in next_states:\n",
        "            if state not in visited:\n",
        "                stack.append(state)\n",
        "                visited.add(state)\n",
        "    return \"No solution found\"\n",
        "\n",
        "def generateNextStates(state, capacity_jug1, capacity_jug2):\n",
        "    next_states = []\n",
        "    # Fill Jug 1\n",
        "    next_states.append((capacity_jug1, state[1]))\n",
        "    # Fill Jug 2\n",
        "    next_states.append((state[0], capacity_jug2))\n",
        "    # Empty Jug 1\n",
        "    next_states.append((0, state[1]))\n",
        "    # Empty Jug 2\n",
        "    next_states.append((state[0], 0))\n",
        "    # Pour water from Jug 1 to Jug 2\n",
        "    pour_amount = min(state[0], capacity_jug2 - state[1])\n",
        "    next_states.append((state[0] - pour_amount, state[1] + pour_amount))\n",
        "    # Pour water from Jug 2 to Jug 1\n",
        "    pour_amount = min(state[1], capacity_jug1 - state[0])\n",
        "    next_states.append((state[0] + pour_amount, state[1] - pour_amount))\n",
        "    return next_states\n",
        "\n",
        "# Driver Code\n",
        "if __name__ == \"__main__\":\n",
        "    capacity_jug1 = 5\n",
        "    capacity_jug2 = 3\n",
        "    desired_quantity = 4\n",
        "    result = solveWaterJugProblem(capacity_jug1, capacity_jug2, desired_quantity)\n",
        "    print(\"Final state:\", result)\n"
      ],
      "metadata": {
        "id": "yWEs_iuNX9UD",
        "colab": {
          "base_uri": "https://localhost:8080/"
        },
        "outputId": "dcc95ff2-8ba9-48a1-ef87-a80aa1b82a88"
      },
      "execution_count": 1,
      "outputs": [
        {
          "output_type": "stream",
          "name": "stdout",
          "text": [
            "Final state: (4, 0)\n"
          ]
        }
      ]
    },
    {
      "cell_type": "code",
      "source": [
        "import heapq\n",
        "\n",
        "class PuzzleNode:\n",
        "    def __init__(self, state, parent=None, move=None, depth=0):\n",
        "        self.state = state\n",
        "        self.parent = parent\n",
        "        self.move = move\n",
        "        self.depth = depth\n",
        "        self.cost = self.calculate_cost()\n",
        "\n",
        "    def __lt__(self, other):\n",
        "        return self.cost < other.cost\n",
        "\n",
        "    def calculate_cost(self):\n",
        "        return self.depth + self.heuristic()\n",
        "\n",
        "    def heuristic(self):\n",
        "        # Manhattan distance heuristic\n",
        "        h = 0\n",
        "        goal_state = [1, 2, 3, 4, 5, 6, 7, 8, 0]\n",
        "        for i in range(1, 9):\n",
        "            s_row, s_col = self.state.index(i) // 3, self.state.index(i) % 3\n",
        "            g_row, g_col = goal_state.index(i) // 3, goal_state.index(i) % 3\n",
        "            h += abs(s_row - g_row) + abs(s_col - g_col)\n",
        "        return h\n",
        "\n",
        "    def expand_node(self):\n",
        "        successors = []\n",
        "        zero_index = self.state.index(0)\n",
        "        next_moves = [(0, -1), (0, 1), (-1, 0), (1, 0)]  # Up, Down, Left, Right\n",
        "        for dx, dy in next_moves:\n",
        "            new_row, new_col = zero_index // 3 + dx, zero_index % 3 + dy\n",
        "            if 0 <= new_row < 3 and 0 <= new_col < 3:\n",
        "                new_state = self.state[:]\n",
        "                new_index = new_row * 3 + new_col\n",
        "                new_state[zero_index], new_state[new_index] = new_state[new_index], new_state[zero_index]\n",
        "                successors.append(PuzzleNode(new_state, self, f\"Move {new_state[zero_index]} to {zero_index}\", self.depth + 1))\n",
        "        return successors\n",
        "\n",
        "    def is_goal_state(self):\n",
        "        return self.state == [1, 2, 3, 4, 5, 6, 7, 8, 0]\n",
        "\n",
        "    def get_solution(self):\n",
        "        solution = []\n",
        "        node = self\n",
        "        while node:\n",
        "            solution.append((node.move, node.state))\n",
        "            node = node.parent\n",
        "        solution.reverse()\n",
        "        return solution\n",
        "\n",
        "def astar(initial_state):\n",
        "    open_list = []\n",
        "    closed_list = set()\n",
        "    heapq.heappush(open_list, initial_state)\n",
        "    while open_list:\n",
        "        current_node = heapq.heappop(open_list)\n",
        "        if current_node.is_goal_state():\n",
        "            return current_node.get_solution()\n",
        "        closed_list.add(tuple(current_node.state))\n",
        "        successors = current_node.expand_node()\n",
        "        for successor in successors:\n",
        "            if tuple(successor.state) not in closed_list:\n",
        "                heapq.heappush(open_list, successor)\n",
        "    return None\n",
        "\n",
        "if __name__ == \"__main__\":\n",
        "    initial_state = [2, 8, 3, 1, 6, 4, 7, 0, 5]  # Example initial state\n",
        "    initial_node = PuzzleNode(initial_state)\n",
        "    solution = astar(initial_node)\n",
        "    if solution:\n",
        "        print(\"Solution found!\")\n",
        "        for move, state in solution:\n",
        "            print(move, state)\n",
        "    else:\n",
        "        print(\"No solution found!\")\n"
      ],
      "metadata": {
        "id": "edkbtF7rXfA6",
        "colab": {
          "base_uri": "https://localhost:8080/"
        },
        "outputId": "00929987-fc7d-494b-f5b7-f42d2c1ce033"
      },
      "execution_count": 4,
      "outputs": [
        {
          "output_type": "stream",
          "name": "stdout",
          "text": [
            "No solution found!\n"
          ]
        }
      ]
    },
    {
      "cell_type": "code",
      "source": [
        "# tic-tac-toe using minimax\n",
        "import math\n",
        "\n",
        "class TicTacToe:\n",
        "    def __init__(self):\n",
        "        self.board = [' ' for _ in range(9)]\n",
        "        self.current_winner = None\n",
        "\n",
        "    def print_board(self):\n",
        "        for row in [self.board[i*3:(i+1)*3] for i in range(3)]:\n",
        "            print('| ' + ' | '.join(row) + ' |')\n",
        "\n",
        "    def available_moves(self):\n",
        "        return [i for i, spot in enumerate(self.board) if spot == ' ']\n",
        "\n",
        "    def num_empty_squares(self):\n",
        "        return self.board.count(' ')\n",
        "\n",
        "    def make_move(self, square, letter):\n",
        "        if self.board[square] == ' ':\n",
        "            self.board[square] = letter\n",
        "            if self.winner(square, letter):\n",
        "                self.current_winner = letter\n",
        "            return True\n",
        "        return False\n",
        "\n",
        "    def winner(self, square, letter):\n",
        "        row_ind = square // 3\n",
        "        row = self.board[row_ind*3:(row_ind+1)*3]\n",
        "        if all([spot == letter for spot in row]):\n",
        "            return True\n",
        "\n",
        "        col_ind = square % 3\n",
        "        col = [self.board[col_ind+i*3] for i in range(3)]\n",
        "        if all([spot == letter for spot in col]):\n",
        "            return True\n",
        "\n",
        "        if square % 2 == 0:\n",
        "            diagonal1 = [self.board[i] for i in [0, 4, 8]]\n",
        "            if all([spot == letter for spot in diagonal1]):\n",
        "                return True\n",
        "            diagonal2 = [self.board[i] for i in [2, 4, 6]]\n",
        "            if all([spot == letter for spot in diagonal2]):\n",
        "                return True\n",
        "        return False\n",
        "\n",
        "    def minimax(self, board, depth, max_player):\n",
        "        if self.current_winner == 'X':\n",
        "            return {'position': None, 'score': 1 * (self.num_empty_squares() + 1) if max_player else -1 * (self.num_empty_squares() + 1)}\n",
        "        elif self.current_winner == 'O':\n",
        "            return {'position': None, 'score': -1 * (self.num_empty_squares() + 1) if max_player else 1 * (self.num_empty_squares() + 1)}\n",
        "        elif self.num_empty_squares() == 0:\n",
        "            return {'position': None, 'score': 0}\n",
        "\n",
        "        if max_player:\n",
        "            best = {'position': None, 'score': -math.inf}\n",
        "            for possible_move in self.available_moves():\n",
        "                board.make_move(possible_move, 'X')\n",
        "                sim_score = self.minimax(board, depth - 1, False)\n",
        "                board.board[possible_move] = ' '\n",
        "                sim_score['position'] = possible_move\n",
        "                if sim_score['score'] > best['score']:\n",
        "                    best = sim_score\n",
        "        else:\n",
        "            best = {'position': None, 'score': math.inf}\n",
        "            for possible_move in self.available_moves():\n",
        "                board.make_move(possible_move, 'O')\n",
        "                sim_score = self.minimax(board, depth - 1, True)\n",
        "                board.board[possible_move] = ' '\n",
        "                sim_score['position'] = possible_move\n",
        "                if sim_score['score'] < best['score']:\n",
        "                    best = sim_score\n",
        "        return best\n",
        "\n",
        "\n",
        "if __name__ == \"__main__\":\n",
        "    game = TicTacToe()\n",
        "    game.print_board()\n",
        "    print(\"Sample Input: Choose the cell number to make your move (0-8)\")\n",
        "    print(\"Sample Output: The updated board with your move\")\n",
        "    while game.num_empty_squares() > 0 and not game.current_winner:\n",
        "        try:\n",
        "            square = int(input(\"Your move (X): \"))\n",
        "            game.make_move(square, 'X')\n",
        "            game.print_board()\n",
        "            if game.current_winner:\n",
        "                print(\"You win!\")\n",
        "                break\n",
        "            move = game.minimax(game, game.num_empty_squares(), False)\n",
        "            game.make_move(move['position'], 'O')\n",
        "            print(\"AI move (O):\", move['position'])\n",
        "            game.print_board()\n",
        "            if game.current_winner:\n",
        "                print(\"AI wins!\")\n",
        "                break\n",
        "        except ValueError:\n",
        "            print(\"Invalid move. Please enter a number between 0 and 8.\")\n",
        "#Sample input 4"
      ],
      "metadata": {
        "id": "CjS5a4CUXe5E",
        "colab": {
          "base_uri": "https://localhost:8080/"
        },
        "outputId": "e9e95223-7f65-41e6-b1dd-36b46175501d"
      },
      "execution_count": 6,
      "outputs": [
        {
          "output_type": "stream",
          "name": "stdout",
          "text": [
            "|   |   |   |\n",
            "|   |   |   |\n",
            "|   |   |   |\n",
            "Sample Input: Choose the cell number to make your move (0-8)\n",
            "Sample Output: The updated board with your move\n",
            "Your move (X): 4\n",
            "|   |   |   |\n",
            "|   | X |   |\n",
            "|   |   |   |\n",
            "AI move (O): 0\n",
            "| O |   |   |\n",
            "|   | X |   |\n",
            "|   |   |   |\n",
            "AI wins!\n"
          ]
        }
      ]
    },
    {
      "cell_type": "code",
      "source": [
        "# graph coloring problem\n",
        "class Graph:\n",
        "    def __init__(self, vertices):\n",
        "        self.vertices = vertices\n",
        "        self.graph = [[0 for _ in range(vertices)] for _ in range(vertices)]\n",
        "\n",
        "    def add_edge(self, u, v):\n",
        "        self.graph[u][v] = 1\n",
        "        self.graph[v][u] = 1\n",
        "\n",
        "    def is_safe(self, v, color, c):\n",
        "        for i in range(self.vertices):\n",
        "            if self.graph[v][i] == 1 and color[i] == c:\n",
        "                return False\n",
        "        return True\n",
        "\n",
        "    def graph_coloring(self, m):\n",
        "        color = [-1] * self.vertices\n",
        "        color[0] = 0\n",
        "\n",
        "        for v in range(1, self.vertices):\n",
        "            for c in range(m):\n",
        "                if self.is_safe(v, color, c):\n",
        "                    color[v] = c\n",
        "                    break\n",
        "        return color\n",
        "\n",
        "if __name__ == \"__main__\":\n",
        "    # Example graph\n",
        "    g = Graph(5)\n",
        "    g.add_edge(0, 1)\n",
        "    g.add_edge(0, 2)\n",
        "    g.add_edge(1, 2)\n",
        "    g.add_edge(1, 3)\n",
        "    g.add_edge(2, 3)\n",
        "    g.add_edge(3, 4)\n",
        "    # Number of colors\n",
        "    m = 3\n",
        "    # Coloring the graph\n",
        "    color = g.graph_coloring(m)\n",
        "    print(\"Coloring of vertices:\")\n",
        "    for i in range(len(color)):\n",
        "        print(\"Vertex\", i, \":\", color[i])\n"
      ],
      "metadata": {
        "id": "QvkvB0s0Xexk",
        "colab": {
          "base_uri": "https://localhost:8080/"
        },
        "outputId": "fb6d7c90-03d2-447d-8af1-d4f0d5a83fcd"
      },
      "execution_count": 7,
      "outputs": [
        {
          "output_type": "stream",
          "name": "stdout",
          "text": [
            "Coloring of vertices:\n",
            "Vertex 0 : 0\n",
            "Vertex 1 : 1\n",
            "Vertex 2 : 2\n",
            "Vertex 3 : 0\n",
            "Vertex 4 : 1\n"
          ]
        }
      ]
    },
    {
      "cell_type": "code",
      "source": [
        "# knapsack problem brute force\n",
        "def knapSack(W, wt, val, n):\n",
        "    # Base case: If no items left or knapsack capacity is 0, return 0\n",
        "    if n == 0 or W == 0:\n",
        "        return 0\n",
        "\n",
        "    # If weight of nth item > Knapsack capacity W, item cannot be included in the optimal solution\n",
        "    if wt[n-1] > W:\n",
        "        return knapSack(W, wt, val, n-1)\n",
        "\n",
        "    # Return the maximum of two cases: nth item included and not included\n",
        "    else:\n",
        "        return max(val[n-1] + knapSack(W-wt[n-1], wt, val, n-1), knapSack(W, wt, val, n-1))\n",
        "\n",
        "# Driver Code\n",
        "if __name__ == '__main__':\n",
        "     profit = [60, 100, 120]\n",
        "     weight = [10, 20, 30]\n",
        "     W = 50\n",
        "     n = len(profit)\n",
        "     print(knapSack(W, weight, profit, n))\n"
      ],
      "metadata": {
        "id": "v_8HVqpAXeh9",
        "colab": {
          "base_uri": "https://localhost:8080/"
        },
        "outputId": "bece62ca-5aae-4b06-a916-54a231849875"
      },
      "execution_count": 11,
      "outputs": [
        {
          "output_type": "stream",
          "name": "stdout",
          "text": [
            "220\n"
          ]
        }
      ]
    },
    {
      "cell_type": "code",
      "source": [
        "# text preprocessing\n",
        "#TOKENIZATION\n",
        "\n",
        "import nltk\n",
        "nltk.download('punkt')\n",
        "paragraph = \"\"\"I have three visions for India. In 3000 years of our history, people from all over the world have come and invaded us, captured our lands, conquered our minds. From Alexander onwards, the Greeks, the Turks, the Moguls, the Portuguese, the British, the French, the Dutch, all of them came and looted us, took over what was ours. Yet we have not done this to any other nation. We have not conquered anyone. We have not grabbed their land, their culture, their history and tried to enforce our way of life on them. Why? Because we respect the freedom of others. That is why my first vision is that of freedom. I believe that India got its first vision of this in 1857, when we started the War of Independence. It is this freedom that we must protect and nurture and build on. If we are not free, no one will respect us. My second vision for India’s development. For fifty years we have been a developing nation. It is time we see ourselves as a developed nation. We are among the top 5 nations of the world in terms of GDP. We have a 10 percent growth rate in most areas. Our poverty levels are falling. Our achievements are being globally recognised today. Yet we lack the self-confidence to see ourselves as a developed nation, self-reliant and self-assured. Isn’t this incorrect? I have a third vision. India must stand up to the world. Because I believe that unless India stands up to the world, no one will respect us. Only strength respects strength. We must be strong not only as a military power but also as an economic power. Both must go hand-in-hand. My good fortune was to have worked with three great minds. Dr. Vikram Sarabhai of the Dept. of space, Professor Satish Dhawan, who succeeded him and Dr. Brahm Prakash, father of nuclear material. I was lucky to have worked with all three of them closely and consider this the great opportunity of my life. I see four milestones in my career\"\"\"\n",
        "# Tokenization sentences\n",
        "sentences = nltk.sent_tokenize(paragraph)\n",
        "# Tokenizing words\n",
        "words = nltk.word_tokenize(paragraph)\n",
        "sentences\n",
        "\n",
        "#STEMMING\n",
        "import nltk\n",
        "nltk.download('stopwords')\n",
        "from nltk.stem import PorterStemmer\n",
        "from nltk.corpus import stopwords\n",
        "paragraph = \"\"\"I have three visions for India. In 3000 years of our history, people from all over the world have come and invaded us, captured our lands, conquered our minds. From Alexander onwards, the Greeks, the Turks, the Moguls, the Portuguese, the British, the French, the Dutch, all of them came and looted us, took over what was ours. Yet we have not done this to any other nation. We have not conquered anyone. We have not grabbed their land, their culture, their history and tried to enforce our way of life on them. Why? Because we respect the freedom of others. That is why my first vision is that of freedom. I believe that India got its first vision of this in 1857, when we started the War of Independence. It is this freedom that we must protect and nurture and build on. If we are not free, no one will respect us. My second vision for India’s development. For fifty years we have been a developing nation. It is time we see ourselves as a developed nation. We are among the top 5 nations of the world in terms of GDP. We have a 10 percent growth rate in most areas. Our poverty levels are falling. Our achievements are being globally recognised today. Yet we lack the self-confidence to see ourselves as a developed nation, self-reliant and self-assured. Isn’t this incorrect? I have a third vision. India must stand up to the world. Because I believe that unless India stands up to the world, no one will respect us. Only strength respects strength. We must be strong not only as a military power but also as an economic power. Both must go hand-in-hand. My good fortune was to have worked with three great minds. Dr. Vikram Sarabhai of the Dept. of space, Professor Satish Dhawan, who succeeded him and Dr. Brahm Prakash, father of nuclear material. I was lucky to have worked with all three of them closely and consider this the great opportunity of my life. I see four milestones in my career\"\"\"\n",
        "sentences = nltk.sent_tokenize(paragraph)\n",
        "stemmer = PorterStemmer()\n",
        "# stemming\n",
        "for i in range(len(sentences)):\n",
        "    words = nltk.word_tokenize(sentences[i])\n",
        "    words = [stemmer.stem(word) for word in words if word not in set(stopwords.words('english'))]\n",
        "    sentences[i]=' '.join(words)\n",
        "sentences\n",
        "\n",
        "\n",
        "# LEMMATIZATION\n",
        "import nltk\n",
        "nltk.download('wordnet')\n",
        "from nltk.stem import WordNetLemmatizer\n",
        "from nltk.corpus import stopwords\n",
        "paragraph = \"\"\"I have three visions for India. In 3000 years of our history, people from all over the world have come and invaded us, captured our lands, conquered our minds. From Alexander onwards, the Greeks, the Turks, the Moguls, the Portuguese, the British, the French, the Dutch, all of them came and looted us, took over what was ours. Yet we have not done this to any other nation. We have not conquered anyone. We have not grabbed their land, their culture, their history and tried to enforce our way of life on them. Why? Because we respect the freedom of others. That is why my first vision is that of freedom. I believe that India got its first vision of this in 1857, when we started the War of Independence. It is this freedom that we must protect and nurture and build on. If we are not free, no one will respect us. My second vision for India’s development. For fifty years we have been a developing nation. It is time we see ourselves as a developed nation. We are among the top 5 nations of the world in terms of GDP. We have a 10 percent growth rate in most areas. Our poverty levels are falling. Our achievements are being globally recognised today. Yet we lack the self-confidence to see ourselves as a developed nation, self-reliant and self-assured. Isn’t this incorrect? I have a third vision. India must stand up to the world. Because I believe that unless India stands up to the world, no one will respect us. Only strength respects strength. We must be strong not only as a military power but also as an economic power. Both must go hand-in-hand. My good fortune was to have worked with three great minds. Dr. Vikram Sarabhai of the Dept. of space, Professor Satish Dhawan, who succeeded him and Dr. Brahm Prakash, father of nuclear material. I was lucky to have worked with all three of them closely and consider this the great opportunity of my life. I see four milestones in my career\"\"\"\n",
        "sentences=nltk.sent_tokenize(paragraph)\n",
        "lemmatizer=WordNetLemmatizer() # create object for WordNetLemmatizer\n",
        "for i in range(len(sentences)):\n",
        "    words=nltk.word_tokenize(sentences[i])\n",
        "    words=[lemmatizer.lemmatize(word) for word in words if word not in set(stopwords.words('english'))]\n",
        "    sentences[i]=' '.join(words)\n",
        "sentences\n",
        "\n",
        "#BAG OF WORDS\n",
        "import nltk\n",
        "paragraph = \"\"\"I have three visions for India. In 3000 years of our history, people from all over the world have come and invaded us, captured our lands, conquered our minds. From Alexander onwards, the Greeks, the Turks, the Moguls, the Portuguese, the British, the French, the Dutch, all of them came and looted us, took over what was ours. Yet we have not done this to any other nation. We have not conquered anyone. We have not grabbed their land, their culture, their history and tried to enforce our way of life on them. Why? Because we respect the freedom of others. That is why my first vision is that of freedom. I believe that India got its first vision of this in 1857, when we started the War of Independence. It is this freedom that we must protect and nurture and build on. If we are not free, no one will respect us. My second vision for India’s development. For fifty years we have been a developing nation. It is time we see ourselves as a developed nation. We are among the top 5 nations of the world in terms of GDP. We have a 10 percent growth rate in most areas. Our poverty levels are falling. Our achievements are being globally recognised today. Yet we lack the self-confidence to see ourselves as a developed nation, self-reliant and self-assured. Isn’t this incorrect? I have a third vision. India must stand up to the world. Because I believe that unless India stands up to the world, no one will respect us. Only strength respects strength. We must be strong not only as a military power but also as an economic power. Both must go hand-in-hand. My good fortune was to have worked with three great minds. Dr. Vikram Sarabhai of the Dept. of space, Professor Satish Dhawan, who succeeded him and Dr. Brahm Prakash, father of nuclear material. I was lucky to have worked with all three of them closely and consider this the great opportunity of my life. I see four milestones in my career\"\"\"\n",
        "# Cleaning the text\n",
        "import re\n",
        "from nltk.corpus import stopwords\n",
        "from nltk.stem.porter import PorterStemmer\n",
        "from nltk.stem import WordNetLemmatizer\n",
        "ps=PorterStemmer() # Create object for PorterStemmer\n",
        "wordnet=WordNetLemmatizer # Create object for Lemmantizer\n",
        "sentences=nltk.sent_tokenize(paragraph)\n",
        "corpus =[]\n",
        "for i in range(len(sentences)):\n",
        "    review=re.sub('[^a-zA-Z]', ' ', sentences[i])\n",
        "    review=review.lower()\n",
        "    review=review.split()\n",
        "    review= [ps.stem(word) for word in review if not word in set(stopwords.words('english'))]\n",
        "    review= ' '.join(review)\n",
        "    corpus.append(review)\n",
        "# creating the Bag_of_words model\n",
        "from sklearn.feature_extraction.text import CountVectorizer\n",
        "cv=CountVectorizer(max_features=1500)\n",
        "X=cv.fit_transform(corpus).toarray()\n",
        "print(corpus)\n",
        "print(X)\n"
      ],
      "metadata": {
        "id": "zl26m7RGX0Wz",
        "colab": {
          "base_uri": "https://localhost:8080/"
        },
        "outputId": "05303d90-7411-409f-b477-f8d50d761eab"
      },
      "execution_count": 14,
      "outputs": [
        {
          "output_type": "stream",
          "name": "stderr",
          "text": [
            "[nltk_data] Downloading package punkt to /root/nltk_data...\n",
            "[nltk_data]   Unzipping tokenizers/punkt.zip.\n",
            "[nltk_data] Downloading package stopwords to /root/nltk_data...\n",
            "[nltk_data]   Unzipping corpora/stopwords.zip.\n",
            "[nltk_data] Downloading package wordnet to /root/nltk_data...\n"
          ]
        },
        {
          "output_type": "stream",
          "name": "stdout",
          "text": [
            "['three vision india', 'year histori peopl world come invad us captur land conquer mind', 'alexand onward greek turk mogul portugues british french dutch came loot us took', 'yet done nation', 'conquer anyon', 'grab land cultur histori tri enforc way life', '', 'respect freedom other', 'first vision freedom', 'believ india got first vision start war independ', 'freedom must protect nurtur build', 'free one respect us', 'second vision india develop', 'fifti year develop nation', 'time see develop nation', 'among top nation world term gdp', 'percent growth rate area', 'poverti level fall', 'achiev global recognis today', 'yet lack self confid see develop nation self reliant self assur', 'incorrect', 'third vision', 'india must stand world', 'believ unless india stand world one respect us', 'strength respect strength', 'must strong militari power also econom power', 'must go hand hand', 'good fortun work three great mind', 'dr vikram sarabhai dept', 'space professor satish dhawan succeed dr brahm prakash father nuclear materi', 'lucki work three close consid great opportun life', 'see four mileston career']\n",
            "[[0 0 0 ... 0 0 0]\n",
            " [0 0 0 ... 1 1 0]\n",
            " [0 1 0 ... 0 0 0]\n",
            " ...\n",
            " [0 0 0 ... 0 0 0]\n",
            " [0 0 0 ... 0 0 0]\n",
            " [0 0 0 ... 0 0 0]]\n"
          ]
        }
      ]
    },
    {
      "cell_type": "code",
      "source": [],
      "metadata": {
        "id": "6QvlXetiUcg8"
      },
      "execution_count": null,
      "outputs": []
    }
  ]
}